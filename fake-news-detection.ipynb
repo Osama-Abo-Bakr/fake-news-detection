{
 "cells": [
  {
   "cell_type": "markdown",
   "id": "7a9ec8ba",
   "metadata": {},
   "source": [
    "# Loading Library"
   ]
  },
  {
   "cell_type": "code",
   "execution_count": 1,
   "id": "2e6a826f",
   "metadata": {},
   "outputs": [],
   "source": [
    "# Reading Data\n",
    "import pandas as pd\n",
    "import numpy as np\n",
    "import matplotlib.pyplot as plt\n",
    "import seaborn as sns\n",
    "\n",
    "# Preprocessing Data\n",
    "import string, re\n",
    "import nltk\n",
    "from nltk.corpus import stopwords\n",
    "from nltk.tokenize import word_tokenize\n",
    "from sklearn.model_selection import train_test_split\n",
    "from tensorflow.keras.preprocessing.text import Tokenizer\n",
    "from tensorflow.keras.preprocessing.sequence import pad_sequences\n",
    "from tensorflow.keras.utils import to_categorical\n",
    "\n",
    "# Building Model\n",
    "import tensorflow as tf\n",
    "import tensorflow.keras as k\n",
    "from tensorflow.keras.layers import Dense, Embedding, GlobalAveragePooling1D, LSTM, Bidirectional\n",
    "\n",
    "# Download Model\n",
    "import pickle"
   ]
  },
  {
   "cell_type": "markdown",
   "id": "c36bc373",
   "metadata": {},
   "source": [
    "# Loading Data"
   ]
  },
  {
   "cell_type": "markdown",
   "id": "5c1c28df",
   "metadata": {},
   "source": [
    "# https://www.kaggle.com/competitions/fake-news"
   ]
  },
  {
   "cell_type": "code",
   "execution_count": 2,
   "id": "36cd25b4",
   "metadata": {},
   "outputs": [
    {
     "data": {
      "text/html": [
       "<div>\n",
       "<style scoped>\n",
       "    .dataframe tbody tr th:only-of-type {\n",
       "        vertical-align: middle;\n",
       "    }\n",
       "\n",
       "    .dataframe tbody tr th {\n",
       "        vertical-align: top;\n",
       "    }\n",
       "\n",
       "    .dataframe thead th {\n",
       "        text-align: right;\n",
       "    }\n",
       "</style>\n",
       "<table border=\"1\" class=\"dataframe\">\n",
       "  <thead>\n",
       "    <tr style=\"text-align: right;\">\n",
       "      <th></th>\n",
       "      <th>id</th>\n",
       "      <th>title</th>\n",
       "      <th>author</th>\n",
       "      <th>text</th>\n",
       "      <th>label</th>\n",
       "    </tr>\n",
       "  </thead>\n",
       "  <tbody>\n",
       "    <tr>\n",
       "      <th>0</th>\n",
       "      <td>0</td>\n",
       "      <td>House Dem Aide: We Didn’t Even See Comey’s Let...</td>\n",
       "      <td>Darrell Lucus</td>\n",
       "      <td>House Dem Aide: We Didn’t Even See Comey’s Let...</td>\n",
       "      <td>1</td>\n",
       "    </tr>\n",
       "    <tr>\n",
       "      <th>1</th>\n",
       "      <td>1</td>\n",
       "      <td>FLYNN: Hillary Clinton, Big Woman on Campus - ...</td>\n",
       "      <td>Daniel J. Flynn</td>\n",
       "      <td>Ever get the feeling your life circles the rou...</td>\n",
       "      <td>0</td>\n",
       "    </tr>\n",
       "    <tr>\n",
       "      <th>2</th>\n",
       "      <td>2</td>\n",
       "      <td>Why the Truth Might Get You Fired</td>\n",
       "      <td>Consortiumnews.com</td>\n",
       "      <td>Why the Truth Might Get You Fired October 29, ...</td>\n",
       "      <td>1</td>\n",
       "    </tr>\n",
       "    <tr>\n",
       "      <th>3</th>\n",
       "      <td>3</td>\n",
       "      <td>15 Civilians Killed In Single US Airstrike Hav...</td>\n",
       "      <td>Jessica Purkiss</td>\n",
       "      <td>Videos 15 Civilians Killed In Single US Airstr...</td>\n",
       "      <td>1</td>\n",
       "    </tr>\n",
       "    <tr>\n",
       "      <th>4</th>\n",
       "      <td>4</td>\n",
       "      <td>Iranian woman jailed for fictional unpublished...</td>\n",
       "      <td>Howard Portnoy</td>\n",
       "      <td>Print \\nAn Iranian woman has been sentenced to...</td>\n",
       "      <td>1</td>\n",
       "    </tr>\n",
       "  </tbody>\n",
       "</table>\n",
       "</div>"
      ],
      "text/plain": [
       "   id                                              title              author  \\\n",
       "0   0  House Dem Aide: We Didn’t Even See Comey’s Let...       Darrell Lucus   \n",
       "1   1  FLYNN: Hillary Clinton, Big Woman on Campus - ...     Daniel J. Flynn   \n",
       "2   2                  Why the Truth Might Get You Fired  Consortiumnews.com   \n",
       "3   3  15 Civilians Killed In Single US Airstrike Hav...     Jessica Purkiss   \n",
       "4   4  Iranian woman jailed for fictional unpublished...      Howard Portnoy   \n",
       "\n",
       "                                                text  label  \n",
       "0  House Dem Aide: We Didn’t Even See Comey’s Let...      1  \n",
       "1  Ever get the feeling your life circles the rou...      0  \n",
       "2  Why the Truth Might Get You Fired October 29, ...      1  \n",
       "3  Videos 15 Civilians Killed In Single US Airstr...      1  \n",
       "4  Print \\nAn Iranian woman has been sentenced to...      1  "
      ]
     },
     "execution_count": 2,
     "metadata": {},
     "output_type": "execute_result"
    }
   ],
   "source": [
    "data = pd.read_csv(r\"D:\\Courses language programming\\LLM - Transformer - NLP\\NLP - Complete Course\\Projects For NLP\\Data\\fake-news\\train.csv\")\n",
    "data.head()"
   ]
  },
  {
   "cell_type": "code",
   "execution_count": 3,
   "id": "22fc0239",
   "metadata": {},
   "outputs": [
    {
     "data": {
      "text/plain": [
       "id           0\n",
       "title      558\n",
       "author    1957\n",
       "text        39\n",
       "label        0\n",
       "dtype: int64"
      ]
     },
     "execution_count": 3,
     "metadata": {},
     "output_type": "execute_result"
    }
   ],
   "source": [
    "data.isnull().sum()"
   ]
  },
  {
   "cell_type": "code",
   "execution_count": 4,
   "id": "32f17785",
   "metadata": {},
   "outputs": [
    {
     "data": {
      "text/plain": [
       "(20800, 5)"
      ]
     },
     "execution_count": 4,
     "metadata": {},
     "output_type": "execute_result"
    }
   ],
   "source": [
    "data.shape"
   ]
  },
  {
   "cell_type": "markdown",
   "id": "821093f4",
   "metadata": {},
   "source": [
    "# Preprocessing Data & Analysis"
   ]
  },
  {
   "cell_type": "markdown",
   "id": "87449283",
   "metadata": {},
   "source": [
    "## Drop Some Columns -- (ID, Author)"
   ]
  },
  {
   "cell_type": "code",
   "execution_count": 5,
   "id": "12e2e870",
   "metadata": {},
   "outputs": [
    {
     "data": {
      "text/html": [
       "<div>\n",
       "<style scoped>\n",
       "    .dataframe tbody tr th:only-of-type {\n",
       "        vertical-align: middle;\n",
       "    }\n",
       "\n",
       "    .dataframe tbody tr th {\n",
       "        vertical-align: top;\n",
       "    }\n",
       "\n",
       "    .dataframe thead th {\n",
       "        text-align: right;\n",
       "    }\n",
       "</style>\n",
       "<table border=\"1\" class=\"dataframe\">\n",
       "  <thead>\n",
       "    <tr style=\"text-align: right;\">\n",
       "      <th></th>\n",
       "      <th>title</th>\n",
       "      <th>text</th>\n",
       "      <th>label</th>\n",
       "    </tr>\n",
       "  </thead>\n",
       "  <tbody>\n",
       "    <tr>\n",
       "      <th>0</th>\n",
       "      <td>House Dem Aide: We Didn’t Even See Comey’s Let...</td>\n",
       "      <td>House Dem Aide: We Didn’t Even See Comey’s Let...</td>\n",
       "      <td>1</td>\n",
       "    </tr>\n",
       "    <tr>\n",
       "      <th>1</th>\n",
       "      <td>FLYNN: Hillary Clinton, Big Woman on Campus - ...</td>\n",
       "      <td>Ever get the feeling your life circles the rou...</td>\n",
       "      <td>0</td>\n",
       "    </tr>\n",
       "    <tr>\n",
       "      <th>2</th>\n",
       "      <td>Why the Truth Might Get You Fired</td>\n",
       "      <td>Why the Truth Might Get You Fired October 29, ...</td>\n",
       "      <td>1</td>\n",
       "    </tr>\n",
       "    <tr>\n",
       "      <th>3</th>\n",
       "      <td>15 Civilians Killed In Single US Airstrike Hav...</td>\n",
       "      <td>Videos 15 Civilians Killed In Single US Airstr...</td>\n",
       "      <td>1</td>\n",
       "    </tr>\n",
       "    <tr>\n",
       "      <th>4</th>\n",
       "      <td>Iranian woman jailed for fictional unpublished...</td>\n",
       "      <td>Print \\nAn Iranian woman has been sentenced to...</td>\n",
       "      <td>1</td>\n",
       "    </tr>\n",
       "  </tbody>\n",
       "</table>\n",
       "</div>"
      ],
      "text/plain": [
       "                                               title  \\\n",
       "0  House Dem Aide: We Didn’t Even See Comey’s Let...   \n",
       "1  FLYNN: Hillary Clinton, Big Woman on Campus - ...   \n",
       "2                  Why the Truth Might Get You Fired   \n",
       "3  15 Civilians Killed In Single US Airstrike Hav...   \n",
       "4  Iranian woman jailed for fictional unpublished...   \n",
       "\n",
       "                                                text  label  \n",
       "0  House Dem Aide: We Didn’t Even See Comey’s Let...      1  \n",
       "1  Ever get the feeling your life circles the rou...      0  \n",
       "2  Why the Truth Might Get You Fired October 29, ...      1  \n",
       "3  Videos 15 Civilians Killed In Single US Airstr...      1  \n",
       "4  Print \\nAn Iranian woman has been sentenced to...      1  "
      ]
     },
     "execution_count": 5,
     "metadata": {},
     "output_type": "execute_result"
    }
   ],
   "source": [
    "def drop_col(data):\n",
    "    for col in [\"id\", \"author\"]: data.drop(col, axis=1, inplace=True)\n",
    "        \n",
    "    return data\n",
    "\n",
    "data = drop_col(data)\n",
    "data.head()"
   ]
  },
  {
   "cell_type": "code",
   "execution_count": 6,
   "id": "149a3655",
   "metadata": {},
   "outputs": [
    {
     "data": {
      "text/plain": [
       "title    558\n",
       "text      39\n",
       "label      0\n",
       "dtype: int64"
      ]
     },
     "execution_count": 6,
     "metadata": {},
     "output_type": "execute_result"
    }
   ],
   "source": [
    "data.isnull().sum()"
   ]
  },
  {
   "cell_type": "markdown",
   "id": "8bcf9105",
   "metadata": {},
   "source": [
    "# Filling Missing Data"
   ]
  },
  {
   "cell_type": "code",
   "execution_count": 7,
   "id": "246b2b2d",
   "metadata": {},
   "outputs": [],
   "source": [
    "def fill_data(data):\n",
    "    data[\"title\"] = data[\"title\"].fillna(\"No Title\")\n",
    "    data[\"text\"] = data[\"text\"].fillna(\"No text\")\n",
    "    return data\n",
    "\n",
    "data = fill_data(data)"
   ]
  },
  {
   "cell_type": "code",
   "execution_count": 8,
   "id": "91011746",
   "metadata": {},
   "outputs": [
    {
     "name": "stdout",
     "output_type": "stream",
     "text": [
      "<class 'pandas.core.frame.DataFrame'>\n",
      "RangeIndex: 20800 entries, 0 to 20799\n",
      "Data columns (total 3 columns):\n",
      " #   Column  Non-Null Count  Dtype \n",
      "---  ------  --------------  ----- \n",
      " 0   title   20800 non-null  object\n",
      " 1   text    20800 non-null  object\n",
      " 2   label   20800 non-null  int64 \n",
      "dtypes: int64(1), object(2)\n",
      "memory usage: 487.6+ KB\n"
     ]
    }
   ],
   "source": [
    "data.info()"
   ]
  },
  {
   "cell_type": "code",
   "execution_count": 9,
   "id": "68b2692c",
   "metadata": {},
   "outputs": [
    {
     "data": {
      "text/html": [
       "<div>\n",
       "<style scoped>\n",
       "    .dataframe tbody tr th:only-of-type {\n",
       "        vertical-align: middle;\n",
       "    }\n",
       "\n",
       "    .dataframe tbody tr th {\n",
       "        vertical-align: top;\n",
       "    }\n",
       "\n",
       "    .dataframe thead th {\n",
       "        text-align: right;\n",
       "    }\n",
       "</style>\n",
       "<table border=\"1\" class=\"dataframe\">\n",
       "  <thead>\n",
       "    <tr style=\"text-align: right;\">\n",
       "      <th></th>\n",
       "      <th>title</th>\n",
       "      <th>text</th>\n",
       "      <th>label</th>\n",
       "    </tr>\n",
       "  </thead>\n",
       "  <tbody>\n",
       "    <tr>\n",
       "      <th>0</th>\n",
       "      <td>House Dem Aide: We Didn’t Even See Comey’s Let...</td>\n",
       "      <td>House Dem Aide: We Didn’t Even See Comey’s Let...</td>\n",
       "      <td>1</td>\n",
       "    </tr>\n",
       "    <tr>\n",
       "      <th>1</th>\n",
       "      <td>FLYNN: Hillary Clinton, Big Woman on Campus - ...</td>\n",
       "      <td>Ever get the feeling your life circles the rou...</td>\n",
       "      <td>0</td>\n",
       "    </tr>\n",
       "  </tbody>\n",
       "</table>\n",
       "</div>"
      ],
      "text/plain": [
       "                                               title  \\\n",
       "0  House Dem Aide: We Didn’t Even See Comey’s Let...   \n",
       "1  FLYNN: Hillary Clinton, Big Woman on Campus - ...   \n",
       "\n",
       "                                                text  label  \n",
       "0  House Dem Aide: We Didn’t Even See Comey’s Let...      1  \n",
       "1  Ever get the feeling your life circles the rou...      0  "
      ]
     },
     "execution_count": 9,
     "metadata": {},
     "output_type": "execute_result"
    }
   ],
   "source": [
    "data.head(2)"
   ]
  },
  {
   "cell_type": "code",
   "execution_count": 10,
   "id": "4b14d5f3",
   "metadata": {},
   "outputs": [],
   "source": [
    "data[\"new_text\"] = data[\"title\"] + \" \" + data[\"text\"]"
   ]
  },
  {
   "cell_type": "markdown",
   "id": "15451293",
   "metadata": {},
   "source": [
    "# Make Processing In Text"
   ]
  },
  {
   "cell_type": "code",
   "execution_count": 11,
   "id": "741ce893",
   "metadata": {},
   "outputs": [],
   "source": [
    "punc = list(string.punctuation)\n",
    "stop_words = stopwords.words(\"english\")\n",
    "\n",
    "def processing_text(data):\n",
    "    data.lower()\n",
    "    data = re.sub(\"[^a-zA-Z]\", ' ', data)\n",
    "    \n",
    "    data = \" \".join([word for word in word_tokenize(data) if ((word not in stop_words) and (word not in punc))])    \n",
    "    return data"
   ]
  },
  {
   "cell_type": "code",
   "execution_count": 12,
   "id": "182218f6",
   "metadata": {},
   "outputs": [
    {
     "data": {
      "text/html": [
       "<div>\n",
       "<style scoped>\n",
       "    .dataframe tbody tr th:only-of-type {\n",
       "        vertical-align: middle;\n",
       "    }\n",
       "\n",
       "    .dataframe tbody tr th {\n",
       "        vertical-align: top;\n",
       "    }\n",
       "\n",
       "    .dataframe thead th {\n",
       "        text-align: right;\n",
       "    }\n",
       "</style>\n",
       "<table border=\"1\" class=\"dataframe\">\n",
       "  <thead>\n",
       "    <tr style=\"text-align: right;\">\n",
       "      <th></th>\n",
       "      <th>title</th>\n",
       "      <th>text</th>\n",
       "      <th>label</th>\n",
       "      <th>new_text</th>\n",
       "      <th>Final_text</th>\n",
       "    </tr>\n",
       "  </thead>\n",
       "  <tbody>\n",
       "    <tr>\n",
       "      <th>0</th>\n",
       "      <td>House Dem Aide: We Didn’t Even See Comey’s Let...</td>\n",
       "      <td>House Dem Aide: We Didn’t Even See Comey’s Let...</td>\n",
       "      <td>1</td>\n",
       "      <td>House Dem Aide: We Didn’t Even See Comey’s Let...</td>\n",
       "      <td>House Dem Aide We Didn Even See Comey Letter U...</td>\n",
       "    </tr>\n",
       "    <tr>\n",
       "      <th>1</th>\n",
       "      <td>FLYNN: Hillary Clinton, Big Woman on Campus - ...</td>\n",
       "      <td>Ever get the feeling your life circles the rou...</td>\n",
       "      <td>0</td>\n",
       "      <td>FLYNN: Hillary Clinton, Big Woman on Campus - ...</td>\n",
       "      <td>FLYNN Hillary Clinton Big Woman Campus Breitba...</td>\n",
       "    </tr>\n",
       "    <tr>\n",
       "      <th>2</th>\n",
       "      <td>Why the Truth Might Get You Fired</td>\n",
       "      <td>Why the Truth Might Get You Fired October 29, ...</td>\n",
       "      <td>1</td>\n",
       "      <td>Why the Truth Might Get You Fired Why the Trut...</td>\n",
       "      <td>Why Truth Might Get You Fired Why Truth Might ...</td>\n",
       "    </tr>\n",
       "    <tr>\n",
       "      <th>3</th>\n",
       "      <td>15 Civilians Killed In Single US Airstrike Hav...</td>\n",
       "      <td>Videos 15 Civilians Killed In Single US Airstr...</td>\n",
       "      <td>1</td>\n",
       "      <td>15 Civilians Killed In Single US Airstrike Hav...</td>\n",
       "      <td>Civilians Killed In Single US Airstrike Have B...</td>\n",
       "    </tr>\n",
       "    <tr>\n",
       "      <th>4</th>\n",
       "      <td>Iranian woman jailed for fictional unpublished...</td>\n",
       "      <td>Print \\nAn Iranian woman has been sentenced to...</td>\n",
       "      <td>1</td>\n",
       "      <td>Iranian woman jailed for fictional unpublished...</td>\n",
       "      <td>Iranian woman jailed fictional unpublished sto...</td>\n",
       "    </tr>\n",
       "  </tbody>\n",
       "</table>\n",
       "</div>"
      ],
      "text/plain": [
       "                                               title  \\\n",
       "0  House Dem Aide: We Didn’t Even See Comey’s Let...   \n",
       "1  FLYNN: Hillary Clinton, Big Woman on Campus - ...   \n",
       "2                  Why the Truth Might Get You Fired   \n",
       "3  15 Civilians Killed In Single US Airstrike Hav...   \n",
       "4  Iranian woman jailed for fictional unpublished...   \n",
       "\n",
       "                                                text  label  \\\n",
       "0  House Dem Aide: We Didn’t Even See Comey’s Let...      1   \n",
       "1  Ever get the feeling your life circles the rou...      0   \n",
       "2  Why the Truth Might Get You Fired October 29, ...      1   \n",
       "3  Videos 15 Civilians Killed In Single US Airstr...      1   \n",
       "4  Print \\nAn Iranian woman has been sentenced to...      1   \n",
       "\n",
       "                                            new_text  \\\n",
       "0  House Dem Aide: We Didn’t Even See Comey’s Let...   \n",
       "1  FLYNN: Hillary Clinton, Big Woman on Campus - ...   \n",
       "2  Why the Truth Might Get You Fired Why the Trut...   \n",
       "3  15 Civilians Killed In Single US Airstrike Hav...   \n",
       "4  Iranian woman jailed for fictional unpublished...   \n",
       "\n",
       "                                          Final_text  \n",
       "0  House Dem Aide We Didn Even See Comey Letter U...  \n",
       "1  FLYNN Hillary Clinton Big Woman Campus Breitba...  \n",
       "2  Why Truth Might Get You Fired Why Truth Might ...  \n",
       "3  Civilians Killed In Single US Airstrike Have B...  \n",
       "4  Iranian woman jailed fictional unpublished sto...  "
      ]
     },
     "execution_count": 12,
     "metadata": {},
     "output_type": "execute_result"
    }
   ],
   "source": [
    "data[\"Final_text\"] = data[\"new_text\"].apply(processing_text)\n",
    "data.head()"
   ]
  },
  {
   "cell_type": "markdown",
   "id": "a57667c6",
   "metadata": {},
   "source": [
    "# Final Drop Data"
   ]
  },
  {
   "cell_type": "code",
   "execution_count": 13,
   "id": "2a5eae26",
   "metadata": {},
   "outputs": [],
   "source": [
    "def drop_extra_col(data):\n",
    "    for col in [\"title\", \"text\", \"new_text\"]: data.drop(col, axis=1, inplace=True)\n",
    "        \n",
    "    return data\n",
    "\n",
    "data = drop_extra_col(data)"
   ]
  },
  {
   "cell_type": "code",
   "execution_count": 14,
   "id": "2f389978",
   "metadata": {},
   "outputs": [
    {
     "data": {
      "text/html": [
       "<div>\n",
       "<style scoped>\n",
       "    .dataframe tbody tr th:only-of-type {\n",
       "        vertical-align: middle;\n",
       "    }\n",
       "\n",
       "    .dataframe tbody tr th {\n",
       "        vertical-align: top;\n",
       "    }\n",
       "\n",
       "    .dataframe thead th {\n",
       "        text-align: right;\n",
       "    }\n",
       "</style>\n",
       "<table border=\"1\" class=\"dataframe\">\n",
       "  <thead>\n",
       "    <tr style=\"text-align: right;\">\n",
       "      <th></th>\n",
       "      <th>label</th>\n",
       "      <th>Final_text</th>\n",
       "    </tr>\n",
       "  </thead>\n",
       "  <tbody>\n",
       "    <tr>\n",
       "      <th>0</th>\n",
       "      <td>1</td>\n",
       "      <td>House Dem Aide We Didn Even See Comey Letter U...</td>\n",
       "    </tr>\n",
       "    <tr>\n",
       "      <th>1</th>\n",
       "      <td>0</td>\n",
       "      <td>FLYNN Hillary Clinton Big Woman Campus Breitba...</td>\n",
       "    </tr>\n",
       "    <tr>\n",
       "      <th>2</th>\n",
       "      <td>1</td>\n",
       "      <td>Why Truth Might Get You Fired Why Truth Might ...</td>\n",
       "    </tr>\n",
       "    <tr>\n",
       "      <th>3</th>\n",
       "      <td>1</td>\n",
       "      <td>Civilians Killed In Single US Airstrike Have B...</td>\n",
       "    </tr>\n",
       "    <tr>\n",
       "      <th>4</th>\n",
       "      <td>1</td>\n",
       "      <td>Iranian woman jailed fictional unpublished sto...</td>\n",
       "    </tr>\n",
       "  </tbody>\n",
       "</table>\n",
       "</div>"
      ],
      "text/plain": [
       "   label                                         Final_text\n",
       "0      1  House Dem Aide We Didn Even See Comey Letter U...\n",
       "1      0  FLYNN Hillary Clinton Big Woman Campus Breitba...\n",
       "2      1  Why Truth Might Get You Fired Why Truth Might ...\n",
       "3      1  Civilians Killed In Single US Airstrike Have B...\n",
       "4      1  Iranian woman jailed fictional unpublished sto..."
      ]
     },
     "execution_count": 14,
     "metadata": {},
     "output_type": "execute_result"
    }
   ],
   "source": [
    "data.head()"
   ]
  },
  {
   "cell_type": "markdown",
   "id": "1ea85327",
   "metadata": {},
   "source": [
    "# Splitting Data"
   ]
  },
  {
   "cell_type": "code",
   "execution_count": 15,
   "id": "c3abc329",
   "metadata": {},
   "outputs": [],
   "source": [
    "X = data[\"Final_text\"]\n",
    "Y = data[\"label\"]"
   ]
  },
  {
   "cell_type": "code",
   "execution_count": 16,
   "id": "29e13794",
   "metadata": {},
   "outputs": [],
   "source": [
    "label = to_categorical(Y, 2)"
   ]
  },
  {
   "cell_type": "markdown",
   "id": "850f562b",
   "metadata": {},
   "source": [
    "# Tokenization"
   ]
  },
  {
   "cell_type": "code",
   "execution_count": 17,
   "id": "77b893b6",
   "metadata": {},
   "outputs": [],
   "source": [
    "# Max_vocab_size = 20000\n",
    "# max_sequance_lenght = 100\n",
    "# Embeding_dim = 100"
   ]
  },
  {
   "cell_type": "code",
   "execution_count": 18,
   "id": "9580386f",
   "metadata": {},
   "outputs": [
    {
     "name": "stdout",
     "output_type": "stream",
     "text": [
      "The Padding Sequance Shape is  -->  (20800, 13468)\n"
     ]
    }
   ],
   "source": [
    "tokenize = Tokenizer(oov_token=\"<OOV>\")\n",
    "tokenize.fit_on_texts(X)\n",
    "word_idx = tokenize.word_index\n",
    "\n",
    "text2seq = tokenize.texts_to_sequences(X)\n",
    "input_length = max([len(i) for i in text2seq])\n",
    "\n",
    "pad_seq = pad_sequences(text2seq, maxlen=input_length, padding=\"pre\", truncating=\"pre\")\n",
    "\n",
    "print(\"The Padding Sequance Shape is  --> \", pad_seq.shape)\n",
    "\n",
    "vocabulary_size = len(word_idx) + 1"
   ]
  },
  {
   "cell_type": "code",
   "execution_count": 33,
   "id": "e253c3f0",
   "metadata": {},
   "outputs": [
    {
     "data": {
      "text/plain": [
       "(20800, 13468)"
      ]
     },
     "execution_count": 33,
     "metadata": {},
     "output_type": "execute_result"
    }
   ],
   "source": [
    "pad_seq.shape"
   ]
  },
  {
   "cell_type": "code",
   "execution_count": 19,
   "id": "e9d7e595",
   "metadata": {},
   "outputs": [
    {
     "data": {
      "text/plain": [
       "(13468, 148609)"
      ]
     },
     "execution_count": 19,
     "metadata": {},
     "output_type": "execute_result"
    }
   ],
   "source": [
    "input_length, vocabulary_size"
   ]
  },
  {
   "cell_type": "markdown",
   "id": "12ffe2f2",
   "metadata": {},
   "source": [
    "# Splitting Data"
   ]
  },
  {
   "cell_type": "code",
   "execution_count": 20,
   "id": "b4f4dbb3",
   "metadata": {},
   "outputs": [],
   "source": [
    "x_train, x_test, y_train, y_test = train_test_split(pad_seq, label, train_size=0.7, random_state=42)"
   ]
  },
  {
   "cell_type": "markdown",
   "id": "442685d9",
   "metadata": {},
   "source": [
    "# Building Model"
   ]
  },
  {
   "cell_type": "code",
   "execution_count": 21,
   "id": "fdf24a48",
   "metadata": {},
   "outputs": [
    {
     "name": "stdout",
     "output_type": "stream",
     "text": [
      "Model: \"sequential\"\n",
      "_________________________________________________________________\n",
      " Layer (type)                Output Shape              Param #   \n",
      "=================================================================\n",
      " embedding (Embedding)       (None, 13468, 150)        22291350  \n",
      "                                                                 \n",
      " global_average_pooling1d (G  (None, 150)              0         \n",
      " lobalAveragePooling1D)                                          \n",
      "                                                                 \n",
      " dense (Dense)               (None, 128)               19328     \n",
      "                                                                 \n",
      " dense_1 (Dense)             (None, 24)                3096      \n",
      "                                                                 \n",
      " dense_2 (Dense)             (None, 2)                 50        \n",
      "                                                                 \n",
      "=================================================================\n",
      "Total params: 22,313,824\n",
      "Trainable params: 22,313,824\n",
      "Non-trainable params: 0\n",
      "_________________________________________________________________\n"
     ]
    }
   ],
   "source": [
    "model = tf.keras.models.Sequential(\n",
    "    [\n",
    "        Embedding(vocabulary_size, 150, input_length=input_length),\n",
    "        GlobalAveragePooling1D(),\n",
    "        Dense(128, activation=\"relu\"),\n",
    "        Dense(24, activation=\"relu\"),\n",
    "        Dense(2, activation=\"softmax\")\n",
    "    ])\n",
    "\n",
    "model.compile(optimizer=\"adam\", loss=k.losses.CategoricalCrossentropy(), metrics=[\"accuracy\"])\n",
    "\n",
    "model.summary()"
   ]
  },
  {
   "cell_type": "code",
   "execution_count": 22,
   "id": "fb7bbd87",
   "metadata": {},
   "outputs": [
    {
     "name": "stdout",
     "output_type": "stream",
     "text": [
      "Epoch 1/10\n",
      "455/455 - 16s - loss: 0.6911 - accuracy: 0.5258 - val_loss: 0.6694 - val_accuracy: 0.6031 - 16s/epoch - 36ms/step\n",
      "Epoch 2/10\n",
      "455/455 - 14s - loss: 0.4361 - accuracy: 0.7941 - val_loss: 0.2397 - val_accuracy: 0.9172 - 14s/epoch - 31ms/step\n",
      "Epoch 3/10\n",
      "455/455 - 14s - loss: 0.1924 - accuracy: 0.9260 - val_loss: 0.1692 - val_accuracy: 0.9319 - 14s/epoch - 31ms/step\n",
      "Epoch 4/10\n",
      "455/455 - 14s - loss: 0.1126 - accuracy: 0.9613 - val_loss: 0.1893 - val_accuracy: 0.9370 - 14s/epoch - 31ms/step\n",
      "Epoch 5/10\n",
      "455/455 - 14s - loss: 0.0823 - accuracy: 0.9729 - val_loss: 0.2077 - val_accuracy: 0.9249 - 14s/epoch - 31ms/step\n",
      "Epoch 6/10\n",
      "455/455 - 14s - loss: 0.0596 - accuracy: 0.9805 - val_loss: 0.1153 - val_accuracy: 0.9630 - 14s/epoch - 31ms/step\n",
      "Epoch 7/10\n",
      "455/455 - 14s - loss: 0.0473 - accuracy: 0.9836 - val_loss: 0.1745 - val_accuracy: 0.9487 - 14s/epoch - 31ms/step\n",
      "Epoch 8/10\n",
      "455/455 - 14s - loss: 0.0320 - accuracy: 0.9899 - val_loss: 0.1897 - val_accuracy: 0.9401 - 14s/epoch - 31ms/step\n",
      "Epoch 9/10\n",
      "455/455 - 14s - loss: 0.0391 - accuracy: 0.9870 - val_loss: 0.1072 - val_accuracy: 0.9659 - 14s/epoch - 31ms/step\n",
      "Epoch 10/10\n",
      "455/455 - 14s - loss: 0.0238 - accuracy: 0.9924 - val_loss: 0.1222 - val_accuracy: 0.9665 - 14s/epoch - 31ms/step\n"
     ]
    }
   ],
   "source": [
    "history = model.fit(x_train, y_train, epochs=10, validation_data=(x_test, y_test), verbose=2)"
   ]
  },
  {
   "cell_type": "code",
   "execution_count": 23,
   "id": "a79e1df0",
   "metadata": {},
   "outputs": [
    {
     "data": {
      "image/png": "[encoded data removed]",
      "text/plain": [
       "<Figure size 640x480 with 1 Axes>"
      ]
     },
     "metadata": {},
     "output_type": "display_data"
    }
   ],
   "source": [
    "plt.plot(history.history[\"loss\"], label=\"Loss\")\n",
    "plt.plot(history.history[\"val_loss\"], label=\"Val_Loss\")\n",
    "\n",
    "plt.xlabel(\"Epochs\")\n",
    "plt.ylabel(\"Loss\")\n",
    "\n",
    "plt.title(\"Loss Vs Epochs\")\n",
    "\n",
    "plt.legend()\n",
    "plt.grid()"
   ]
  },
  {
   "cell_type": "code",
   "execution_count": 24,
   "id": "251a292c",
   "metadata": {},
   "outputs": [
    {
     "data": {
      "image/png": "[encoded data removed]",
      "text/plain": [
       "<Figure size 640x480 with 1 Axes>"
      ]
     },
     "metadata": {},
     "output_type": "display_data"
    }
   ],
   "source": [
    "plt.plot(history.history[\"accuracy\"], label=\"accuracy\")\n",
    "plt.plot(history.history[\"val_accuracy\"], label=\"val_accuracy\")\n",
    "\n",
    "plt.xlabel(\"Epochs\")\n",
    "plt.ylabel(\"Accuracy\")\n",
    "\n",
    "plt.title(\"Accuracy Vs Epochs\")\n",
    "\n",
    "plt.legend()\n",
    "plt.grid()"
   ]
  },
  {
   "cell_type": "markdown",
   "id": "583145bb",
   "metadata": {},
   "source": [
    "# Saving Model"
   ]
  },
  {
   "cell_type": "code",
   "execution_count": 26,
   "id": "f760af4b",
   "metadata": {},
   "outputs": [],
   "source": [
    "model.save(r'D:\\Pycharm\\Computer Vision Project\\NLP Project\\Fake News\\model.h5')"
   ]
  },
  {
   "cell_type": "code",
   "execution_count": 27,
   "id": "12bad21c",
   "metadata": {},
   "outputs": [],
   "source": [
    "pickle.dump(tokenize, open(r'D:\\Pycharm\\Computer Vision Project\\NLP Project\\Fake News\\tokenizer.bin', 'wb'))"
   ]
  },
  {
   "cell_type": "markdown",
   "id": "19c2409d",
   "metadata": {},
   "source": [
    "# Deploy"
   ]
  },
  {
   "cell_type": "code",
   "execution_count": null,
   "id": "0be1088b",
   "metadata": {},
   "outputs": [],
   "source": [
    "from tensorflow.keras.models import load_model\n",
    "from tensorflow.keras.preprocessing.sequence import pad_sequences\n",
    "import numpy as np\n",
    "import streamlit as st\n",
    "import pickle\n",
    "\n",
    "\n",
    "model = load_model(r'D:\\Pycharm\\Computer Vision Project\\NLP Project\\Fake News\\model.h5')\n",
    "tokenizer = pickle.load(open(r'D:\\Pycharm\\Computer Vision Project\\NLP Project\\Fake News\\tokenizer.bin', 'rb'))\n",
    "class_label = {1: 'Fake', 0: 'Real'}\n",
    "st.title('Fake News Project.📰🗞️')\n",
    "\n",
    "text = st.text_input('Enter THe Text')\n",
    "if text:\n",
    "    text = tokenizer.texts_to_sequences([text])\n",
    "    pad_seq = np.array(pad_sequences(text, maxlen=13468, padding=\"pre\", truncating=\"pre\"))\n",
    "    prediction = model.predict(pad_seq)\n",
    "\n",
    "    if st.button('predict'):\n",
    "        st.write(class_label[prediction.argmax()])"
   ]
  }
 ],
 "metadata": {
  "kernelspec": {
   "display_name": "Python 3 (ipykernel)",
   "language": "python",
   "name": "python3"
  },
  "language_info": {
   "codemirror_mode": {
    "name": "ipython",
    "version": 3
   },
   "file_extension": ".py",
   "mimetype": "text/x-python",
   "name": "python",
   "nbconvert_exporter": "python",
   "pygments_lexer": "ipython3",
   "version": "3.7.16"
  }
 },
 "nbformat": 4,
 "nbformat_minor": 5
}
